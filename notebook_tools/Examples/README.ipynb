{
 "cells": [
  {
   "cell_type": "markdown",
   "id": "386689d2-58ae-4b18-8ad4-7cfc8e7462e7",
   "metadata": {},
   "source": [
    "# Introduction"
   ]
  },
  {
   "cell_type": "markdown",
   "id": "bf920cfb-310a-4f77-998f-aa0aac2fae93",
   "metadata": {},
   "source": [
    "# Installation"
   ]
  },
  {
   "cell_type": "markdown",
   "id": "b0b1db1e-fa27-4da7-8830-e64b73c49c9f",
   "metadata": {},
   "source": [
    "## Pypi installation"
   ]
  },
  {
   "cell_type": "markdown",
   "id": "e9252779-6345-4827-98bc-a76eb4f15059",
   "metadata": {},
   "source": [
    "Run the below cmd in your shell <br>\n",
    "**pip install nbktools**\n",
    "<br>\n",
    "or Run the below cmd in your Notebook <br>\n",
    "**!pip install nbktools**"
   ]
  },
  {
   "cell_type": "markdown",
   "id": "9342a2ce-7bbe-425f-b21e-dd063a3c1759",
   "metadata": {},
   "source": [
    "# Usage and Demo"
   ]
  },
  {
   "cell_type": "markdown",
   "id": "761942ee-321a-491f-abe4-098885e83fe4",
   "metadata": {},
   "source": [
    "### Import the library"
   ]
  },
  {
   "cell_type": "code",
   "execution_count": 7,
   "id": "938af19c-29a7-4900-84ac-480362386263",
   "metadata": {},
   "outputs": [],
   "source": [
    "# Import the library\n",
    "import nbktools"
   ]
  },
  {
   "cell_type": "code",
   "execution_count": 15,
   "id": "7d52cdcc-f3c2-4348-833a-fba0725b2b84",
   "metadata": {},
   "outputs": [],
   "source": [
    "# Import all functions\n",
    "from nbktools import *"
   ]
  },
  {
   "cell_type": "code",
   "execution_count": 8,
   "id": "ccd8152c-95bd-4b38-8b6b-9ac65ec67a21",
   "metadata": {},
   "outputs": [
    {
     "data": {
      "text/plain": [
       "['auto_tab_conten', 'creat_structure', 'merge_ntks', 'remove_empty', 'src']"
      ]
     },
     "execution_count": 8,
     "metadata": {},
     "output_type": "execute_result"
    }
   ],
   "source": [
    "# The library methodes\n",
    "[x for x in dir(nbktools) if not '__' in x]"
   ]
  },
  {
   "cell_type": "markdown",
   "id": "1e12ca00-eb42-4fa3-8548-4f8d21d5fa4d",
   "metadata": {},
   "source": [
    "### Automatically generates a table of contents "
   ]
  },
  {
   "cell_type": "markdown",
   "id": "d60772fe-eaae-4dff-912a-b38e3775f081",
   "metadata": {},
   "source": [
    "Let's create a notebook example with the simple structure below"
   ]
  },
  {
   "cell_type": "markdown",
   "id": "a6efd1c5-79e0-4f18-8d5f-f2f972523448",
   "metadata": {},
   "source": [
    "(See the Example1.ipynb notebook)\n",
    "<br> Below is juste an example, there is no unique format of titles, juste they must  be Mardown cells and start with # as usual "
   ]
  },
  {
   "cell_type": "raw",
   "id": "a930331e-334a-4741-946c-4c497b48c86e",
   "metadata": {},
   "source": [
    "# A Title 1\n",
    "Some example cells here\n",
    "## AA Title 2\n",
    "Some example cells here\n",
    "## AB Title 2\n",
    "### ABA Title 3\n",
    "### ABB Title 3\n",
    "#### ABBA Title 4\n",
    "##### ABBAA Title 5\n",
    "#### ABBB Title 4\n",
    "# B Title 1\n",
    "Some example cells here\n",
    "## BA Title 2\n",
    "# C Title 1\n",
    "##### CAAAA Title 5"
   ]
  },
  {
   "cell_type": "markdown",
   "id": "9bbb6c29-8a1a-4567-8270-d5f860b3e224",
   "metadata": {},
   "source": [
    "**Generate a table of contents**"
   ]
  },
  {
   "cell_type": "code",
   "execution_count": 19,
   "id": "57a3f389-6b47-440a-a6d4-84c2e026fa47",
   "metadata": {},
   "outputs": [
    {
     "name": "stdout",
     "output_type": "stream",
     "text": [
      "Help on function auto_tab_conten in module nbktools.src.nbktools:\n",
      "\n",
      "auto_tab_conten(ntk_inp_name, ntk_out_name, update=False, level=3)\n",
      "    Automatically generates a table of contents (TOC) for a Jupyter notebook and updates or creates it in the notebook file.\n",
      "    \n",
      "    Args:\n",
      "        ntk_inp_name (str): Input path to the Jupyter notebook file.\n",
      "        ntk_out_name (str): Output path where the modified notebook file will be saved.\n",
      "        update (bool, optional): If True, updates the existing TOC in the notebook file. If False, creates a new TOC. Default is False.\n",
      "        level (int): The title level to be taked in account for the table of contents. Default is 3. \n",
      "    \n",
      "    Returns:\n",
      "        None\n",
      "\n"
     ]
    }
   ],
   "source": [
    "# Function help is you want\n",
    "help(auto_tab_conten)"
   ]
  },
  {
   "cell_type": "code",
   "execution_count": 32,
   "id": "d3ffd421-736d-4026-b750-f564aaa63698",
   "metadata": {},
   "outputs": [
    {
     "name": "stdout",
     "output_type": "stream",
     "text": [
      "Done\n"
     ]
    }
   ],
   "source": [
    "auto_tab_conten(ntk_inp_name=r\"Examples/Example1.ipynb\", ntk_out_name=r\"Examples/Example1_Out1.ipynb\")"
   ]
  },
  {
   "cell_type": "markdown",
   "id": "ed4f2243-c542-4f54-b7da-9f8f008b84fe",
   "metadata": {},
   "source": [
    "**The function generate the below \"Table of contents\"**"
   ]
  },
  {
   "cell_type": "markdown",
   "id": "90ff77cb-1669-4064-9236-243fbeec8a51",
   "metadata": {},
   "source": [
    "<img src=\"Table_Of_Cont.PNG\" style=\"width:30%;\">"
   ]
  },
  {
   "cell_type": "markdown",
   "id": "f3868db7-4745-428e-b02d-be83866bee4a",
   "metadata": {},
   "source": [
    "**You can limit the level of titles: below is an example of level 2**"
   ]
  },
  {
   "cell_type": "code",
   "execution_count": 33,
   "id": "5d09777e-16d3-4429-82b8-9c9dfec0baa9",
   "metadata": {},
   "outputs": [
    {
     "name": "stdout",
     "output_type": "stream",
     "text": [
      "Done\n"
     ]
    }
   ],
   "source": [
    "auto_tab_conten(ntk_inp_name=r\"Examples/Example1.ipynb\", ntk_out_name=r\"Examples/Example1_Out2.ipynb\",\n",
    "                level=2)"
   ]
  },
  {
   "cell_type": "markdown",
   "id": "ef3ac4c6-59d3-4c52-b889-c785063af6f1",
   "metadata": {},
   "source": [
    "<img src=\"Table_Of_Cont2.PNG\" style=\"width:30%;\">"
   ]
  },
  {
   "cell_type": "markdown",
   "id": "26ad2e11-d145-48d5-9136-2f3eb338dfe7",
   "metadata": {},
   "source": [
    "**You can creat a new Table of contents or just update the old one with the below syntax**\n",
    "<br> \n",
    "If you want to update the notebook, it must contain a cell with the exact name "
   ]
  },
  {
   "cell_type": "raw",
   "id": "aac7bbc2-6ffe-4a84-a938-76f462c633b4",
   "metadata": {},
   "source": [
    "# Table of contents"
   ]
  },
  {
   "cell_type": "code",
   "execution_count": 34,
   "id": "c73c65cb-a7ec-4e13-bd81-dfe3e570e131",
   "metadata": {},
   "outputs": [
    {
     "name": "stdout",
     "output_type": "stream",
     "text": [
      "Done\n"
     ]
    }
   ],
   "source": [
    "auto_tab_conten(ntk_inp_name=r\"Examples/Example1_Out2.ipynb\", ntk_out_name=r\"Examples/Example1_Out3.ipynb\",\n",
    "                update=True)"
   ]
  },
  {
   "cell_type": "markdown",
   "id": "71a3b537-4873-4db6-8e50-f559f3e1d970",
   "metadata": {},
   "source": [
    "# Merge Notebooks"
   ]
  },
  {
   "cell_type": "code",
   "execution_count": 36,
   "id": "b293c1e8-fb33-44c9-bb38-6f5ddf64ab95",
   "metadata": {},
   "outputs": [
    {
     "name": "stdout",
     "output_type": "stream",
     "text": [
      "Help on function merge_ntks in module nbktools.src.nbktools:\n",
      "\n",
      "merge_ntks(inp_paths, out_path)\n",
      "    Merges Jupyter notebook files from input paths into a single notebook file and saves it to the output path.\n",
      "    \n",
      "    Args:\n",
      "        inp_paths (list): List of input paths to the Jupyter notebook files.\n",
      "        out_path (str): Output path the merged notebook file will be saved.\n",
      "    \n",
      "    Returns:\n",
      "        None\n",
      "\n"
     ]
    }
   ],
   "source": [
    "help(merge_ntks)"
   ]
  },
  {
   "cell_type": "markdown",
   "id": "561e4d9e-58d1-4f38-ba41-1ce4740fdd97",
   "metadata": {},
   "source": [
    "**You can merge many notebooks with the below function**"
   ]
  },
  {
   "cell_type": "code",
   "execution_count": 38,
   "id": "a9787e1d-a312-4eaa-b65f-bab89d7ddd9b",
   "metadata": {},
   "outputs": [
    {
     "name": "stdout",
     "output_type": "stream",
     "text": [
      "Done\n"
     ]
    }
   ],
   "source": [
    "merge_ntks(inp_paths=['Examples/Example1.ipynb','Examples/Example1_Out1.ipynb',\\\n",
    "                      'Examples/Example1_Out2.ipynb'],\\\n",
    "                      out_path='Examples/Example_Merge.ipynb')"
   ]
  },
  {
   "cell_type": "markdown",
   "id": "11e7743d-4ef9-4229-a1ba-ad314bff96c2",
   "metadata": {},
   "source": [
    "# Create project structure: Empty folders"
   ]
  },
  {
   "cell_type": "code",
   "execution_count": 39,
   "id": "c0ea0cf7-d9e8-45ce-af36-538886119bcb",
   "metadata": {},
   "outputs": [
    {
     "name": "stdout",
     "output_type": "stream",
     "text": [
      "Help on function creat_structure in module nbktools.src.nbktools:\n",
      "\n",
      "creat_structure(directories)\n",
      "    This function creates directories for a given list of directory names.\n",
      "    \n",
      "    Parameters:\n",
      "    directories (list): A list of directory names as strings.\n",
      "    \n",
      "    Returns:\n",
      "    None\n",
      "\n"
     ]
    }
   ],
   "source": [
    "help(creat_structure)"
   ]
  },
  {
   "cell_type": "code",
   "execution_count": 40,
   "id": "f5ede3c6-f0ce-4ddf-a18c-e58fc885d4b3",
   "metadata": {},
   "outputs": [
    {
     "name": "stdout",
     "output_type": "stream",
     "text": [
      "data created successfully\n",
      "data/raw created successfully\n",
      "data/processed created successfully\n",
      "src created successfully\n",
      "src/utils created successfully\n",
      "output created successfully\n",
      "reports created successfully\n"
     ]
    }
   ],
   "source": [
    "folders=['data','data/raw','data/processed','src','src/utils','output','reports']\n",
    "creat_structure(folders)"
   ]
  }
 ],
 "metadata": {
  "kernelspec": {
   "display_name": "KarnelVirEV1",
   "language": "python",
   "name": "karnelvirev1"
  },
  "language_info": {
   "codemirror_mode": {
    "name": "ipython",
    "version": 3
   },
   "file_extension": ".py",
   "mimetype": "text/x-python",
   "name": "python",
   "nbconvert_exporter": "python",
   "pygments_lexer": "ipython3",
   "version": "3.10.5"
  }
 },
 "nbformat": 4,
 "nbformat_minor": 5
}
