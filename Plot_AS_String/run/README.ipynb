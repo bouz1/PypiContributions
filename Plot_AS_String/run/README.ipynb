{
 "cells": [
  {
   "cell_type": "markdown",
   "id": "7bc06763-4267-43ef-a558-9508947b33f1",
   "metadata": {},
   "source": [
    "# Introduction "
   ]
  },
  {
   "cell_type": "markdown",
   "id": "352baa11-ee66-4974-8ced-52fef46cab40",
   "metadata": {},
   "source": [
    "This sample package contain just one function \"plot\", this function can **plot** a numerical data x,y as a string <br>\n",
    "The string plot can be helpful to be used in comments, on in bloc-notes, ... <br> \n",
    "The plot is a normal string that can be used anywhere <br> \n",
    "see the below example: Price of the BTC plot as string"
   ]
  },
  {
   "cell_type": "code",
   "execution_count": 307,
   "id": "bb1433d5-970e-4447-97be-6750f86ed2ff",
   "metadata": {},
   "outputs": [],
   "source": [
    "# You can put the code her\n",
    "\n",
    "# Below the plot as a comments\n",
    "\n",
    "'''\n",
    "Price of the BTC: January 2023, High, finance.yahoo\n",
    "                                                High price (USD)\n",
    "----------------------------------------------••-|2.51e+04\n",
    "|                                             •••|\n",
    "|                           •   •            ••••|\n",
    "|                   •   • • •• ••••• ••      ••••|\n",
    "|                   ••••••••••••••••••••     ••••|2.30e+04\n",
    "|                  •••••••••••••••••••••    •••••|\n",
    "|                  ••••••••••••••••••••••••••••••|\n",
    "|              ••••••••••••••••••••••••••••••••••|\n",
    "|            ••••••••••••••••••••••••••••••••••••|2.09e+04\n",
    "|            ••••••••••••••••••••••••••••••••••••|\n",
    "|           •••••••••••••••••••••••••••••••••••••|\n",
    "|          ••••••••••••••••••••••••••••••••••••••|\n",
    "|          ••••••••••••••••••••••••••••••••••••••|1.88e+04\n",
    "|          ••••••••••••••••••••••••••••••••••••••|\n",
    "|        ••••••••••••••••••••••••••••••••••••••••|\n",
    "|  • ••••••••••••••••••••••••••••••••••••••••••••|\n",
    "•••••••••••••••••••••••••••••••••••••••••••••••••|1.66e+04\n",
    "¦1          ¦13         ¦25         ¦37         ¦49\n",
    "Day of January 2023\n",
    "'''\n",
    "# Example of code line\n",
    "a=None"
   ]
  },
  {
   "cell_type": "markdown",
   "id": "5528c6b0-653f-48cf-81ae-7851997dcad3",
   "metadata": {},
   "source": [
    "# Installation"
   ]
  },
  {
   "cell_type": "markdown",
   "id": "0e392923-3853-425a-a5d2-1a258ee43e83",
   "metadata": {},
   "source": [
    "### PyPi installation"
   ]
  },
  {
   "cell_type": "raw",
   "id": "f6bc97fa-ee49-4651-951c-3499056d17a7",
   "metadata": {},
   "source": [
    "!pip install plotstring "
   ]
  },
  {
   "cell_type": "markdown",
   "id": "22b91c6d-f8e0-4a50-99be-fd9c006e6d82",
   "metadata": {},
   "source": [
    "### Installation form github"
   ]
  },
  {
   "cell_type": "markdown",
   "id": "1d21da6b-67d4-4f7d-a9b2-8ff95a111b64",
   "metadata": {},
   "source": [
    "Download the zip from https://github.com/bouz1/Plot_AS_String and unzip the file <br>\n",
    "Or clone the reposotory in local by the cmd: git clone https://github.com/bouz1/Plot_AS_String.git<br>\n",
    "Run cmd in the folder that contain the setup.py<br>\n",
    "Excute the cmd: pip install ."
   ]
  },
  {
   "cell_type": "markdown",
   "id": "551d55ff-1222-4eb0-aae9-7af7fe38918f",
   "metadata": {},
   "source": [
    "# Libraries"
   ]
  },
  {
   "cell_type": "code",
   "execution_count": 71,
   "id": "ec18db26-ec79-4ded-ba82-8a9658d5e814",
   "metadata": {},
   "outputs": [],
   "source": [
    "# The main library : plotstring \n",
    "from plotstring import plot\n",
    "# Other libraries to test plotstring \n",
    "import numpy as np\n",
    "import pandas as pd\n",
    "import pyperclip"
   ]
  },
  {
   "cell_type": "markdown",
   "id": "0c59e5ac-2adc-4092-a278-619f9a5df626",
   "metadata": {},
   "source": [
    "# Using of the function \"plot\""
   ]
  },
  {
   "cell_type": "markdown",
   "id": "2e46b62e-0a22-4b06-9c37-e929f2146675",
   "metadata": {},
   "source": [
    "### Help"
   ]
  },
  {
   "cell_type": "markdown",
   "id": "91d0d900-2364-4f2d-b903-f50855322213",
   "metadata": {},
   "source": [
    "you can use Help to see the function description"
   ]
  },
  {
   "cell_type": "code",
   "execution_count": 60,
   "id": "12926860-ad86-4ba1-953a-d8e4c7bae25b",
   "metadata": {},
   "outputs": [
    {
     "name": "stdout",
     "output_type": "stream",
     "text": [
      "Help on function plot in module plotstring:\n",
      "\n",
      "plot(df=None, Nx=80, Ny=32, title='Title', xlabel=None, ylabel=None, print_str=True, return_str=True, copy_out_clipbrd=True, markers='•', N_grid=2, bar=False)\n",
      "    Create a plot of the data in the clipboard AS STRING.\n",
      "    The plot can be used as a normal string in comments, bloc-notes, ... \n",
      "    \n",
      "    :param df: DataFrame, optional\n",
      "        The DataFrame to plot. If not provided, the function reads from the clipboard.\n",
      "    :param Nx: int, optional\n",
      "        The number of horizontal pixels in the plot.\n",
      "    :param Ny: int, optional\n",
      "        The number of vertical pixels in the plot.\n",
      "    :param title: str, optional\n",
      "        The title of the plot.\n",
      "    :param xlabel: str, optional\n",
      "        The label for the x-axis. if not provided, the function will use df columns.\n",
      "    :param ylabel: str, optional\n",
      "        The label for the y-axis. if not provided, the function will use df columns.\n",
      "    :param print_str: bool, optional\n",
      "        Whether to print the plot as a string.\n",
      "    :param return_str: bool, optional\n",
      "        Whether to return the plot as a string.\n",
      "    :param copy_out_clipbrd: bool, optional\n",
      "        Whether to copy the plot to the clipboard.\n",
      "    :param markers: str, optional\n",
      "        The marker to use for the plot.\n",
      "    :param N_grid: int, optional\n",
      "        The number of grid lines to use.\n",
      "    :param bar: bool, optional\n",
      "        Whether to use a bar plot instead of a line plot.\n",
      "    :return: None or str\n",
      "        If `print_str` is True, the plot is printed as a string. If `return_str` is True, the plot is returned as a string. Otherwise, None is returned.\n",
      "\n"
     ]
    }
   ],
   "source": [
    "help(plot)"
   ]
  },
  {
   "cell_type": "markdown",
   "id": "b5e1b61e-ff56-4ce3-b559-65ea907ff717",
   "metadata": {},
   "source": [
    "### Use plot by passing a DataFrame"
   ]
  },
  {
   "cell_type": "markdown",
   "id": "3217d809-1755-4d5d-aef7-7c88225b70f0",
   "metadata": {},
   "source": [
    "In this first example, the plot function use a dataFrame as input "
   ]
  },
  {
   "cell_type": "markdown",
   "id": "f6634e2a-6c9e-46b2-ade4-4e217a391b0e",
   "metadata": {},
   "source": [
    "Prepare data to test the plot function"
   ]
  },
  {
   "cell_type": "code",
   "execution_count": null,
   "id": "33556149-42d0-4469-babd-4c3f0ad24c9d",
   "metadata": {},
   "outputs": [],
   "source": [
    "x=np.arange(0,360,10)\n",
    "y=np.sin(x*np.pi/180)"
   ]
  },
  {
   "cell_type": "code",
   "execution_count": null,
   "id": "2b018bc4-6f67-447c-ba70-92446ff36677",
   "metadata": {},
   "outputs": [
    {
     "data": {
      "text/html": [
       "<div>\n",
       "<style scoped>\n",
       "    .dataframe tbody tr th:only-of-type {\n",
       "        vertical-align: middle;\n",
       "    }\n",
       "\n",
       "    .dataframe tbody tr th {\n",
       "        vertical-align: top;\n",
       "    }\n",
       "\n",
       "    .dataframe thead th {\n",
       "        text-align: right;\n",
       "    }\n",
       "</style>\n",
       "<table border=\"1\" class=\"dataframe\">\n",
       "  <thead>\n",
       "    <tr style=\"text-align: right;\">\n",
       "      <th></th>\n",
       "      <th>angle</th>\n",
       "      <th>sin_angle</th>\n",
       "    </tr>\n",
       "  </thead>\n",
       "  <tbody>\n",
       "    <tr>\n",
       "      <th>0</th>\n",
       "      <td>0</td>\n",
       "      <td>0.000000</td>\n",
       "    </tr>\n",
       "    <tr>\n",
       "      <th>1</th>\n",
       "      <td>10</td>\n",
       "      <td>0.173648</td>\n",
       "    </tr>\n",
       "    <tr>\n",
       "      <th>2</th>\n",
       "      <td>20</td>\n",
       "      <td>0.342020</td>\n",
       "    </tr>\n",
       "    <tr>\n",
       "      <th>3</th>\n",
       "      <td>30</td>\n",
       "      <td>0.500000</td>\n",
       "    </tr>\n",
       "    <tr>\n",
       "      <th>4</th>\n",
       "      <td>40</td>\n",
       "      <td>0.642788</td>\n",
       "    </tr>\n",
       "  </tbody>\n",
       "</table>\n",
       "</div>"
      ],
      "text/plain": [
       "   angle  sin_angle\n",
       "0      0   0.000000\n",
       "1     10   0.173648\n",
       "2     20   0.342020\n",
       "3     30   0.500000\n",
       "4     40   0.642788"
      ]
     },
     "execution_count": 14,
     "metadata": {},
     "output_type": "execute_result"
    }
   ],
   "source": [
    "df=pd.DataFrame(zip(x,y),columns=['angle','sin_angle'])\n",
    "df.head()"
   ]
  },
  {
   "cell_type": "markdown",
   "id": "c54ef89a-76bc-490e-8ca7-adb9a4b38f63",
   "metadata": {},
   "source": [
    "Use our funciton plot with a dataFrame as input"
   ]
  },
  {
   "cell_type": "code",
   "execution_count": 113,
   "id": "06884cbe-a4a3-44c3-a74f-5e7dd389b61f",
   "metadata": {},
   "outputs": [
    {
     "name": "stdout",
     "output_type": "stream",
     "text": [
      "                                     Title                                     \n",
      "                                                                                sin_angle\n",
      "----------------------------------------•----------------------------------------|1.00e+00\n",
      "|                                    •  |  •                                     |\n",
      "|                                       |                                        |\n",
      "|                                       |                                        |\n",
      "|                                       |                                        |\n",
      "|                                  •    |    •                                   |\n",
      "|                                       |                                        |\n",
      "|                                       |                                        |\n",
      "|                                       |                                        |7.50e-01\n",
      "|                                       |                                        |\n",
      "|                               •       |       •                                |\n",
      "|                                       |                                        |\n",
      "|                                       |                                        |\n",
      "|                                       |                                        |\n",
      "|                                       |                                        |\n",
      "|                            •          |          •                             |\n",
      "---------------------------------------------------------------------------------|5.00e-01\n",
      "|                                       |                                        |\n",
      "|                                       |                                        |\n",
      "|                                       |                                        |\n",
      "|                          •            |            •                           |\n",
      "|                                       |                                        |\n",
      "|                                       |                                        |\n",
      "|                                       |                                        |\n",
      "|                       •               |               •                        |2.50e-01\n",
      "|                                       |                                        |\n",
      "|                                       |                                        |\n",
      "|                    •                  |                  •                     |\n",
      "|                                       |                                        |\n",
      "|                                       |                                        |\n",
      "|                  •                    |                    •                   |\n",
      "|            •  •                       |                       •  •             |\n",
      "•--•-•--•--•---------------------------------------------------------•--•--•-•--•|1.23e-04\n",
      "¦-3.00e+00          ¦-1.50e+00          ¦0.00e+00           ¦1.50e+00          ¦3.00e+00\n",
      "angle\n"
     ]
    }
   ],
   "source": [
    "output_string=plot(df)"
   ]
  },
  {
   "cell_type": "markdown",
   "id": "5637def0-b127-42f6-9c9e-cd09b25f5300",
   "metadata": {},
   "source": [
    "### use plot by CTRL + C"
   ]
  },
  {
   "cell_type": "markdown",
   "id": "dc3223ce-579f-4b9b-aa4d-0a452d1a3f84",
   "metadata": {},
   "source": [
    "In this second example, the plot function can use directly the data in your clipboard,\n",
    "<br> you can for example copy the data directly from an excel file, and run the plot function to plot your data"
   ]
  },
  {
   "cell_type": "markdown",
   "id": "1b9951ff-f059-44c9-94ab-c5de336de9b9",
   "metadata": {},
   "source": [
    "Example of the data that you can copy in your clipboard using simply the habitual keys CTRL+C"
   ]
  },
  {
   "cell_type": "code",
   "execution_count": 268,
   "id": "c224af6c-d54d-48b4-941c-97fabf9419ce",
   "metadata": {},
   "outputs": [],
   "source": [
    "string = '''angle\tsin_angle\n",
    "-90\t6.12E-17\n",
    "-80\t1.74E-01\n",
    "-70\t3.42E-01\n",
    "-60\t5.00E-01\n",
    "-50\t6.43E-01\n",
    "-40\t7.66E-01\n",
    "-30\t8.66E-01\n",
    "-20\t9.40E-01\n",
    "-10\t9.85E-01\n",
    "0\t1.00E+00\n",
    "10\t9.85E-01\n",
    "20\t9.40E-01\n",
    "30\t8.66E-01\n",
    "40\t7.66E-01\n",
    "50\t6.43E-01\n",
    "60\t5.00E-01\n",
    "70\t3.42E-01\n",
    "80\t1.74E-01\n",
    "90\t6.12E-17'''"
   ]
  },
  {
   "cell_type": "markdown",
   "id": "cab44d90-14d5-4e1e-aadb-9461c872d9d2",
   "metadata": {},
   "source": [
    "You can copy the above data, but for this example we will use pyperclip.copy to copy the string by code (this can be helpful if we run the entire notebook)"
   ]
  },
  {
   "cell_type": "code",
   "execution_count": 269,
   "id": "8c2fcdee-a8a0-4170-846b-bb71ca03238c",
   "metadata": {},
   "outputs": [
    {
     "name": "stdout",
     "output_type": "stream",
     "text": [
      "                                     Title                                     \n",
      "                                                                                sin_angle\n",
      "------------------------------------•---•---•------------------------------------|1.00e+00\n",
      "|                                       |                                        |\n",
      "|                              •        |        •                               |\n",
      "|                                       |                                        |\n",
      "|                          •            |            •                           |\n",
      "|                                       |                                        |\n",
      "|                                       |                                        |\n",
      "|                     •                 |                 •                      |\n",
      "|                                       |                                        |7.50e-01\n",
      "|                                       |                                        |\n",
      "|                                       |                                        |\n",
      "|                 •                     |                     •                  |\n",
      "|                                       |                                        |\n",
      "|                                       |                                        |\n",
      "|                                       |                                        |\n",
      "|                                       |                                        |\n",
      "-------------•-----------------------------------------------------•-------------|5.00e-01\n",
      "|                                       |                                        |\n",
      "|                                       |                                        |\n",
      "|                                       |                                        |\n",
      "|                                       |                                        |\n",
      "|        •                              |                              •         |\n",
      "|                                       |                                        |\n",
      "|                                       |                                        |\n",
      "|                                       |                                        |2.50e-01\n",
      "|                                       |                                        |\n",
      "|   •                                   |                                   •    |\n",
      "|                                       |                                        |\n",
      "|                                       |                                        |\n",
      "|                                       |                                        |\n",
      "|                                       |                                        |\n",
      "|                                       |                                        |\n",
      "•-------------------------------------------------------------------------------•|6.12e-17\n",
      "¦-9.00e+01          ¦-4.50e+01          ¦0.00e+00           ¦4.50e+01          ¦9.00e+01\n",
      "angle\n"
     ]
    }
   ],
   "source": [
    "pyperclip.copy(string)\n",
    "# Plot the copied data\n",
    "output_string=plot()"
   ]
  },
  {
   "cell_type": "markdown",
   "id": "03b122ff-47cd-4d2e-a6d0-cba96565138f",
   "metadata": {},
   "source": [
    "### Other parameters of the plot function"
   ]
  },
  {
   "cell_type": "markdown",
   "id": "5f161bf6-62d8-409e-8840-82d5b8beaf46",
   "metadata": {},
   "source": [
    "Prepare data for this third example"
   ]
  },
  {
   "cell_type": "code",
   "execution_count": 271,
   "id": "3109521a-37d8-4c96-a407-88889f7b086c",
   "metadata": {},
   "outputs": [],
   "source": [
    "x=np.arange(-3,3.2,0.2)\n",
    "y=np.exp(-(x**2))\n",
    "df=pd.DataFrame(zip(x,y),columns=['angle','Norm PDF'])"
   ]
  },
  {
   "cell_type": "markdown",
   "id": "ff7b91ba-050e-4046-8e66-714e088b4713",
   "metadata": {},
   "source": [
    "The plot data with all parameters"
   ]
  },
  {
   "cell_type": "markdown",
   "id": "2789c371-e828-4f93-b5a9-224023ef41fe",
   "metadata": {},
   "source": [
    "**Without returning the string, and without copying the string in the clipboard**"
   ]
  },
  {
   "cell_type": "code",
   "execution_count": 273,
   "id": "ab0cd86a-b3a7-4550-a7e3-887f2c1627b5",
   "metadata": {},
   "outputs": [
    {
     "name": "stdout",
     "output_type": "stream",
     "text": [
      "                                      PDF                                      \n",
      "                                                                                y axis\n",
      "----------------------------------------*----------------------------------------|1.00e+00\n",
      "|                                    *  *  *                                     |\n",
      "|                                    *  *  *                                     |\n",
      "|                                  * *  *  * *                                   |\n",
      "|                                  * *  *  * *                                   |\n",
      "|                                  * *  *  * *                                   |7.50e-01\n",
      "|                               *  * *  *  * *  *                                |\n",
      "|                               *  * *  *  * *  *                                |\n",
      "|                               *  * *  *  * *  *                                |\n",
      "|                            *  *  * *  *  * *  *  *                             |\n",
      "|                            *  *  * *  *  * *  *  *                             |5.00e-01\n",
      "|                            *  *  * *  *  * *  *  *                             |\n",
      "|                            *  *  * *  *  * *  *  *                             |\n",
      "|                          * *  *  * *  *  * *  *  * *                           |\n",
      "|                          * *  *  * *  *  * *  *  * *                           |\n",
      "|                       *  * *  *  * *  *  * *  *  * *  *                        |2.50e-01\n",
      "|                       *  * *  *  * *  *  * *  *  * *  *                        |\n",
      "|                    *  *  * *  *  * *  *  * *  *  * *  *  *                     |\n",
      "|                  * *  *  * *  *  * *  *  * *  *  * *  *  * *                   |\n",
      "|               *  * *  *  * *  *  * *  *  * *  *  * *  *  * *  *                |\n",
      "*--*-*--*--*-*--*--*-*--*--*-*--*--*-*--*--*-*--*--*-*--*--*-*--*--*-*--*--*-*--*|1.23e-04\n",
      "¦-3.00e+00          ¦-1.50e+00          ¦0.00e+00           ¦1.50e+00          ¦3.00e+00\n",
      "X axis\n"
     ]
    }
   ],
   "source": [
    "plot(df,                     #The DataFrame to plot. If not provided, the function reads from the clipboard.\n",
    "    Nx=80,                   # The number of horizontal pixels in the plot.\n",
    "    Ny=20,                   # The number of vertical pixels in the plot.\n",
    "    title='PDF' ,         # The title of the plot.\n",
    "    xlabel='X axis',         # The label for the x-axis. if not provided, the function will use df columns.\n",
    "    ylabel='y axis',         # The label for the y-axis. if not provided, the function will use df columns.\n",
    "    print_str=True,          # Whether to print the plot as a string.\n",
    "    return_str=False,        # Whether to return the plot as a string.\n",
    "    copy_out_clipbrd=False,  # Whether to copy the plot to the clipboard. \n",
    "    markers='*',             # The marker to use for the plot.\n",
    "    N_grid=1,                # The number of grid lines to use.\n",
    "    bar=True,                # Whether to use a bar plot instead of a line plot.\n",
    "    x_int=False              # Whether the x is an integer or not\n",
    "    )"
   ]
  },
  {
   "cell_type": "markdown",
   "id": "290433bb-e33e-4b67-9e0a-5ed5f47810d5",
   "metadata": {},
   "source": [
    "**Without printing the string, and without copying the string in the clipboard, the function will return the string**"
   ]
  },
  {
   "cell_type": "code",
   "execution_count": 274,
   "id": "c968113c-bd46-4959-8e0c-beccc0d2f186",
   "metadata": {},
   "outputs": [],
   "source": [
    "str_out=plot(\n",
    "    df,                     #The DataFrame to plot. If not provided, the function reads from the clipboard.\n",
    "    Nx=80,                   # The number of horizontal pixels in the plot.\n",
    "    Ny=20,                   # The number of vertical pixels in the plot.\n",
    "    title='PDF' ,         # The title of the plot.\n",
    "    xlabel='X axis',         # The label for the x-axis. if not provided, the function will use df columns.\n",
    "    ylabel='y axis',         # The label for the y-axis. if not provided, the function will use df columns.\n",
    "    print_str=False,          # Whether to print the plot as a string.\n",
    "    return_str=True,         # Whether to return the plot as a string.\n",
    "    copy_out_clipbrd=False,  # Whether to copy the plot to the clipboard. \n",
    "    markers='*',             # The marker to use for the plot.\n",
    "    N_grid=1,                # The number of grid lines to use.\n",
    "    bar=True,                # Whether to use a bar plot instead of a line plot.\n",
    "    x_int=False              # Whether the x is an integer or not\n",
    "    )"
   ]
  },
  {
   "cell_type": "markdown",
   "id": "67a83fc8-750a-43ce-ac85-87a8b87fcbe7",
   "metadata": {},
   "source": [
    "you can use the retuned string"
   ]
  },
  {
   "cell_type": "code",
   "execution_count": 275,
   "id": "1b3e65ad-2445-483b-baa6-fb3dc03410d1",
   "metadata": {},
   "outputs": [
    {
     "name": "stdout",
     "output_type": "stream",
     "text": [
      "                                      PDF                                      \n",
      "                                                                                y axis\n",
      "----------------------------------------*----------------------------------------|1.00e+00\n",
      "|                                    *  *  *                                     |\n",
      "|                                    *  *  *                                     |\n",
      "|                                  * *  *  * *                                   |\n",
      "|                                  * *  *  * *                                   |\n",
      "|                                  * *  *  * *                                   |7.50e-01\n",
      "|                               *  * *  *  * *  *                                |\n",
      "|                               *  * *  *  * *  *                                |\n",
      "|                               *  * *  *  * *  *                                |\n",
      "|                            *  *  * *  *  * *  *  *                             |\n",
      "|                            *  *  * *  *  * *  *  *                             |5.00e-01\n",
      "|                            *  *  * *  *  * *  *  *                             |\n",
      "|                            *  *  * *  *  * *  *  *                             |\n",
      "|                          * *  *  * *  *  * *  *  * *                           |\n",
      "|                          * *  *  * *  *  * *  *  * *                           |\n",
      "|                       *  * *  *  * *  *  * *  *  * *  *                        |2.50e-01\n",
      "|                       *  * *  *  * *  *  * *  *  * *  *                        |\n",
      "|                    *  *  * *  *  * *  *  * *  *  * *  *  *                     |\n",
      "|                  * *  *  * *  *  * *  *  * *  *  * *  *  * *                   |\n",
      "|               *  * *  *  * *  *  * *  *  * *  *  * *  *  * *  *                |\n",
      "*--*-*--*--*-*--*--*-*--*--*-*--*--*-*--*--*-*--*--*-*--*--*-*--*--*-*--*--*-*--*|1.23e-04\n",
      "¦-3.00e+00          ¦-1.50e+00          ¦0.00e+00           ¦1.50e+00          ¦3.00e+00\n",
      "X axis\n"
     ]
    }
   ],
   "source": [
    "print(str_out)"
   ]
  },
  {
   "cell_type": "markdown",
   "id": "f9d2a0a3-b0fa-4c87-afc3-b050ee0a7122",
   "metadata": {},
   "source": [
    "**Without printing the string, and without returning the string in the clipboard, the function will copy the string in your clipboard**"
   ]
  },
  {
   "cell_type": "code",
   "execution_count": 277,
   "id": "53c0e673-0666-4990-84e2-a5e9c425085e",
   "metadata": {},
   "outputs": [],
   "source": [
    "plot(\n",
    "    df,                     #The DataFrame to plot. If not provided, the function reads from the clipboard.\n",
    "    Nx=80,                   # The number of horizontal pixels in the plot.\n",
    "    Ny=20,                   # The number of vertical pixels in the plot.\n",
    "    title='PDF' ,         # The title of the plot.\n",
    "    xlabel='X axis',         # The label for the x-axis. if not provided, the function will use df columns.\n",
    "    ylabel='y axis',         # The label for the y-axis. if not provided, the function will use df columns.\n",
    "    print_str=False,          # Whether to print the plot as a string.\n",
    "    return_str=False,        # Whether to return the plot as a string.\n",
    "    copy_out_clipbrd=True,  # Whether to copy the plot to the clipboard. \n",
    "    #markers='*',             # The marker to use for the plot.\n",
    "    N_grid=1,                # The number of grid lines to use.\n",
    "    bar=True                 # Whether to use a bar plot instead of a line plot.\n",
    "    )"
   ]
  },
  {
   "cell_type": "markdown",
   "id": "292bf560-a00b-4d4b-9dfe-4a2a566f637d",
   "metadata": {},
   "source": [
    "You can past the string anywhere, you can ofcore use the keys CTRL + V to paste the string, example of pasting "
   ]
  },
  {
   "cell_type": "code",
   "execution_count": 308,
   "id": "fd434dd3-e9d4-400a-abfe-743f36a4f1be",
   "metadata": {},
   "outputs": [],
   "source": [
    "a='''\n",
    "PDF                                      \n",
    "                                                                                y axis\n",
    "----------------------------------------•----------------------------------------|1.00e+00\n",
    "|                                    •  •  •                                     |\n",
    "|                                    •  •  •                                     |\n",
    "|                                  • •  •  • •                                   |\n",
    "|                                  • •  •  • •                                   |\n",
    "|                                  • •  •  • •                                   |7.50e-01\n",
    "|                               •  • •  •  • •  •                                |\n",
    "|                               •  • •  •  • •  •                                |\n",
    "|                               •  • •  •  • •  •                                |\n",
    "|                            •  •  • •  •  • •  •  •                             |\n",
    "|                            •  •  • •  •  • •  •  •                             |5.00e-01\n",
    "|                            •  •  • •  •  • •  •  •                             |\n",
    "|                            •  •  • •  •  • •  •  •                             |\n",
    "|                          • •  •  • •  •  • •  •  • •                           |\n",
    "|                          • •  •  • •  •  • •  •  • •                           |\n",
    "|                       •  • •  •  • •  •  • •  •  • •  •                        |2.50e-01\n",
    "|                       •  • •  •  • •  •  • •  •  • •  •                        |\n",
    "|                    •  •  • •  •  • •  •  • •  •  • •  •  •                     |\n",
    "|                  • •  •  • •  •  • •  •  • •  •  • •  •  • •                   |\n",
    "|               •  • •  •  • •  •  • •  •  • •  •  • •  •  • •  •                |\n",
    "•--•-•--•--•-•--•--•-•--•--•-•--•--•-•--•--•-•--•--•-•--•--•-•--•--•-•--•--•-•--•|1.23e-04\n",
    "¦-3.00e+00          ¦-1.50e+00          ¦0.00e+00           ¦1.50e+00          ¦3.00e+00\n",
    "X axis'''"
   ]
  },
  {
   "cell_type": "markdown",
   "id": "6545a009-814a-4978-8e92-a570763b231d",
   "metadata": {},
   "source": [
    "**You can chnage Nx, Ny**"
   ]
  },
  {
   "cell_type": "code",
   "execution_count": 278,
   "id": "a947c838-bc86-45e3-9ad4-83be00578a61",
   "metadata": {},
   "outputs": [
    {
     "name": "stdout",
     "output_type": "stream",
     "text": [
      "       Title       \n",
      "                    Norm PDF\n",
      "---------•••---------|1.00e+00\n",
      "|        •|•         |\n",
      "|         |          |8.00e-01\n",
      "|       • | •        |\n",
      "|         |          |6.00e-01\n",
      "-------•-----•-------|\n",
      "|      •  |  •       |4.00e-01\n",
      "|         |          |\n",
      "|     •   |   •      |2.00e-01\n",
      "|    •    |    •     |\n",
      "•••••-----------•••••|1.23e-04\n",
      "¦-3.0¦-1.5¦0.00¦1.50e+00¦3.00e+00\n",
      "angle\n"
     ]
    }
   ],
   "source": [
    "_=plot(\n",
    "    df,                     #The DataFrame to plot. If not provided, the function reads from the clipboard.\n",
    "    Nx=20,                 # The number of horizontal pixels in the plot.\n",
    "    Ny=10                  # The number of vertical pixels in the plot.\n",
    ")"
   ]
  },
  {
   "cell_type": "markdown",
   "id": "972e4dd4-e1dc-4ad2-82b9-9e7f83f81b66",
   "metadata": {},
   "source": [
    "**You can change the number of grid lines \"N_grid\", trick: preferably you can use N_grid  as common divisor of Nx, Ny**"
   ]
  },
  {
   "cell_type": "code",
   "execution_count": 279,
   "id": "9778fb5a-e608-46e1-844e-25675e3b74d7",
   "metadata": {},
   "outputs": [
    {
     "name": "stdout",
     "output_type": "stream",
     "text": [
      "                                     Title                                     \n",
      "                                                                                Norm PDF\n",
      "----------------------------------------•----------------------------------------|1.00e+00\n",
      "|               |               |    •     •    |               |                |\n",
      "|               |               |               |               |                |\n",
      "|               |               |  •         •  |               |                |\n",
      "---------------------------------------------------------------------------------|\n",
      "|               |               |               |               |                |7.50e-01\n",
      "|               |               •               •               |                |\n",
      "|               |               |               |               |                |\n",
      "---------------------------------------------------------------------------------|\n",
      "|               |            •  |               |  •            |                |\n",
      "|               |               |               |               |                |5.00e-01\n",
      "|               |               |               |               |                |\n",
      "---------------------------------------------------------------------------------|\n",
      "|               |          •    |               |    •          |                |\n",
      "|               |               |               |               |                |\n",
      "|               |       •       |               |       •       |                |2.50e-01\n",
      "---------------------------------------------------------------------------------|\n",
      "|               |    •          |               |          •    |                |\n",
      "|               |  •            |               |            •  |                |\n",
      "|               •               |               |               •                |\n",
      "•--•-•--•--•-•-----------------------------------------------------•-•--•--•-•--•|1.23e-04\n",
      "¦-3.00e+00          ¦-1.50e+00          ¦0.00e+00           ¦1.50e+00          ¦3.00e+00\n",
      "angle\n"
     ]
    }
   ],
   "source": [
    "_=plot(\n",
    "    df,                     #The DataFrame to plot. If not provided, the function reads from the clipboard.\n",
    "    Nx=80,                   # The number of horizontal pixels in the plot.\n",
    "    Ny=20,                   # The number of vertical pixels in the plot.\n",
    "    N_grid=5,                # The number of grid lines to use.\n",
    "    )"
   ]
  },
  {
   "cell_type": "markdown",
   "id": "ed3d4493-d06e-4d28-af49-5adaa5946ba5",
   "metadata": {},
   "source": [
    "**X as integer**"
   ]
  },
  {
   "cell_type": "code",
   "execution_count": 280,
   "id": "7ad4f1c4-d10e-476b-a008-11db1b5eed5a",
   "metadata": {},
   "outputs": [
    {
     "name": "stdout",
     "output_type": "stream",
     "text": [
      "                                     Title                                     \n",
      "                                                                                Norm PDF\n",
      "----------------------------------------•----------------------------------------|1.00e+00\n",
      "|               |               |    •     •    |               |                |\n",
      "|               |               |               |               |                |\n",
      "|               |               |  •         •  |               |                |\n",
      "---------------------------------------------------------------------------------|\n",
      "|               |               |               |               |                |7.50e-01\n",
      "|               |               •               •               |                |\n",
      "|               |               |               |               |                |\n",
      "---------------------------------------------------------------------------------|\n",
      "|               |            •  |               |  •            |                |\n",
      "|               |               |               |               |                |5.00e-01\n",
      "|               |               |               |               |                |\n",
      "---------------------------------------------------------------------------------|\n",
      "|               |          •    |               |    •          |                |\n",
      "|               |               |               |               |                |\n",
      "|               |       •       |               |       •       |                |2.50e-01\n",
      "---------------------------------------------------------------------------------|\n",
      "|               |    •          |               |          •    |                |\n",
      "|               |  •            |               |            •  |                |\n",
      "|               •               |               |               •                |\n",
      "•--•-•--•--•-•-----------------------------------------------------•-•--•--•-•--•|1.23e-04\n",
      "¦-3                 ¦-1                 ¦0                  ¦1                 ¦3\n",
      "angle\n"
     ]
    }
   ],
   "source": [
    "_=plot(\n",
    "    df,                     #The DataFrame to plot. If not provided, the function reads from the clipboard.\n",
    "    Nx=80,                   # The number of horizontal pixels in the plot.\n",
    "    Ny=20,                   # The number of vertical pixels in the plot.\n",
    "    N_grid=5,                # The number of grid lines to use.\n",
    "    x_int=True               # Whether the x is an integer or not\n",
    "\n",
    "    )"
   ]
  }
 ],
 "metadata": {
  "kernelspec": {
   "display_name": "Python 3 (ipykernel)",
   "language": "python",
   "name": "python3"
  },
  "language_info": {
   "codemirror_mode": {
    "name": "ipython",
    "version": 3
   },
   "file_extension": ".py",
   "mimetype": "text/x-python",
   "name": "python",
   "nbconvert_exporter": "python",
   "pygments_lexer": "ipython3",
   "version": "3.10.5"
  }
 },
 "nbformat": 4,
 "nbformat_minor": 5
}
